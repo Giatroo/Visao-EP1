{
 "cells": [
  {
   "cell_type": "code",
   "execution_count": null,
   "metadata": {},
   "outputs": [],
   "source": [
    "import pandas as pd\n",
    "import numpy as np\n",
    "import matplotlib.pyplot as plt\n",
    "\n",
    "# Extra non \"data science / image processing\" libraries\n",
    "from pathlib import Path\n",
    "\n",
    "# Global variables\n",
    "from global_variables import (\n",
    "    DATA_FOLDER,\n",
    "    CLASS_TO_OBJECT_NAME,\n",
    "    MAP_COLUMN_TO_CONVERTER,\n",
    "    OBJECT_CODE_TO_CLASS,\n",
    ")"
   ]
  },
  {
   "cell_type": "code",
   "execution_count": null,
   "metadata": {},
   "outputs": [],
   "source": [
    "def create_images_metadata(folder: Path) -> pd.DataFrame:\n",
    "    all_file_series = []\n",
    "    for subfolder in folder.glob(\"*\"):\n",
    "        subfolder_name = subfolder.stem\n",
    "        subfolder_metadata = subfolder_name.split(\"_\")\n",
    "        background, illumination, environment = subfolder_metadata\n",
    "        subfolder_files = list(subfolder.glob(\"*.jpg\"))\n",
    "\n",
    "        for file in subfolder_files:\n",
    "            file_name = file.stem\n",
    "            file_object_codes = file_name.split(\"-\")\n",
    "            img = plt.imread(file)\n",
    "            height, width, channels = img.shape\n",
    "            for object_code in file_object_codes:\n",
    "                try:\n",
    "                    file_series = pd.Series(\n",
    "                        {\n",
    "                            \"file_path\": file,\n",
    "                            \"height\": height,\n",
    "                            \"width\": width,\n",
    "                            \"channels\": channels,\n",
    "                            \"background\": background,\n",
    "                            \"illumination\": illumination,\n",
    "                            \"environment\": environment,\n",
    "                            \"objects_in_image_code\": file_object_codes,\n",
    "                            \"objects_in_image_numeric\": [\n",
    "                                OBJECT_CODE_TO_CLASS[object_code]\n",
    "                                for object_code in file_object_codes\n",
    "                            ],\n",
    "                            \"label_code\": object_code,\n",
    "                            \"label_numeric\": OBJECT_CODE_TO_CLASS[object_code],\n",
    "                        }\n",
    "                    )\n",
    "                    all_file_series.append(file_series)\n",
    "                except KeyError as e:\n",
    "                    print(f\"{file} has an invalid object code.\")\n",
    "\n",
    "\n",
    "    df = pd.DataFrame(all_file_series)\n",
    "    return df\n",
    "\n",
    "df = create_images_metadata(DATA_FOLDER)\n",
    "df.head()"
   ]
  },
  {
   "cell_type": "code",
   "execution_count": null,
   "metadata": {},
   "outputs": [],
   "source": [
    "assert df.height.nunique() == 1\n",
    "assert df.width.nunique() == 1\n",
    "assert df.channels.nunique() == 1"
   ]
  },
  {
   "cell_type": "code",
   "execution_count": null,
   "metadata": {},
   "outputs": [],
   "source": [
    "def display_counts_for(df, column):\n",
    "    counts = df[column].value_counts()\n",
    "    counts = counts.sort_index()\n",
    "    counts.index = counts.index.map(MAP_COLUMN_TO_CONVERTER[column])\n",
    "    display(counts)\n",
    "    counts.plot(kind=\"bar\", title=f\"Contagens de {column}\")\n",
    "    plt.show()"
   ]
  },
  {
   "cell_type": "code",
   "execution_count": null,
   "metadata": {},
   "outputs": [],
   "source": [
    "display_counts_for(df, \"label_code\")"
   ]
  },
  {
   "cell_type": "code",
   "execution_count": null,
   "metadata": {},
   "outputs": [],
   "source": [
    "display_counts_for(df, \"background\")"
   ]
  },
  {
   "cell_type": "code",
   "execution_count": null,
   "metadata": {},
   "outputs": [],
   "source": [
    "display_counts_for(df, \"illumination\")"
   ]
  },
  {
   "cell_type": "code",
   "execution_count": null,
   "metadata": {},
   "outputs": [],
   "source": [
    "display_counts_for(df, \"environment\")"
   ]
  },
  {
   "cell_type": "code",
   "execution_count": null,
   "metadata": {},
   "outputs": [],
   "source": [
    "def display_sample_images(df, n_images=3):\n",
    "    sample = df.sample(n_images)\n",
    "    for i in range(n_images):\n",
    "        file_path = sample[\"file_path\"].values[i]\n",
    "        img = plt.imread(file_path, format=\"jpg\")\n",
    "        plt.imshow(img, cmap=\"gray\")\n",
    "        plt.xticks([])\n",
    "        plt.yticks([])\n",
    "        plt.show()\n",
    "\n",
    "display_sample_images(df)"
   ]
  },
  {
   "cell_type": "code",
   "execution_count": null,
   "metadata": {},
   "outputs": [],
   "source": [
    "def plot_database_sample(df, images_per_class=12):\n",
    "    \"\"\"Plots a subplot of images with images_per_class images per class in each\n",
    "    row.\n",
    "    \"\"\"\n",
    "    _, axs = plt.subplots(10, images_per_class, figsize=(20, 20), dpi=200)\n",
    "    for i in range(10):\n",
    "        class_df = df[df[\"label_numeric\"] == i]\n",
    "        sample = class_df.sample(images_per_class)\n",
    "        for j in range(images_per_class):\n",
    "            file_path = sample[\"file_path\"].values[j]\n",
    "            img = plt.imread(file_path)\n",
    "            axs[i, j].imshow(img, cmap=\"gray\")\n",
    "            axs[i, j].set_xticks([])\n",
    "            axs[i, j].set_yticks([])\n",
    "            if j == 0:\n",
    "                axs[i, j].set_ylabel(CLASS_TO_OBJECT_NAME[i], fontsize=14)\n",
    "    plt.subplots_adjust(wspace=0, hspace=0)\n",
    "    plt.tight_layout()\n",
    "    plt.show()\n",
    "\n",
    "\n",
    "plot_database_sample(df)"
   ]
  },
  {
   "cell_type": "code",
   "execution_count": null,
   "metadata": {},
   "outputs": [],
   "source": [
    "df.to_csv(\"images_metadata.csv\", index=False)"
   ]
  }
 ],
 "metadata": {
  "kernelspec": {
   "display_name": "Python 3",
   "language": "python",
   "name": "python3"
  },
  "language_info": {
   "codemirror_mode": {
    "name": "ipython",
    "version": 3
   },
   "file_extension": ".py",
   "mimetype": "text/x-python",
   "name": "python",
   "nbconvert_exporter": "python",
   "pygments_lexer": "ipython3",
   "version": "3.11.9"
  }
 },
 "nbformat": 4,
 "nbformat_minor": 2
}
