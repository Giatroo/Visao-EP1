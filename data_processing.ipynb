{
 "cells": [
  {
   "cell_type": "code",
   "execution_count": null,
   "metadata": {},
   "outputs": [],
   "source": [
    "import pandas as pd\n",
    "import numpy as np\n",
    "import matplotlib.pyplot as plt\n",
    "\n",
    "# Extra non \"data science / image processing\" libraries\n",
    "from pathlib import Path\n",
    "from tqdm.notebook import tqdm\n",
    "\n",
    "# Global variables\n",
    "from global_variables import (\n",
    "    RAW_DATA_FOLDER,\n",
    "    DATA_FOLDER,\n",
    ")\n",
    "\n",
    "# We'll reduce the images from (2604, 4624) to (326, 578)\n",
    "DOWNSCALE_FACTOR = 8"
   ]
  },
  {
   "cell_type": "code",
   "execution_count": null,
   "metadata": {},
   "outputs": [],
   "source": [
    "import cv2\n",
    "\n",
    "\n",
    "def process_image(\n",
    "    img: np.ndarray,\n",
    "    *,\n",
    "    downscale_factor: float | int,\n",
    ") -> np.ndarray:\n",
    "    img = _resize_image(img, downscale_factor)\n",
    "    img = _fix_exif_rotation(img)\n",
    "    return img\n",
    "\n",
    "\n",
    "def _resize_image(img: np.ndarray, downscale_factor: float | int) -> np.ndarray:\n",
    "    new_height = int(img.shape[0] / downscale_factor)\n",
    "    new_width = int(img.shape[1] / downscale_factor)\n",
    "    return cv2.resize(img, (new_width, new_height))\n",
    "\n",
    "\n",
    "def _fix_exif_rotation(img: np.ndarray) -> np.ndarray:\n",
    "    return cv2.rotate(img, cv2.ROTATE_90_CLOCKWISE)"
   ]
  },
  {
   "cell_type": "code",
   "execution_count": null,
   "metadata": {},
   "outputs": [],
   "source": [
    "def validate_processing(\n",
    "    img: np.ndarray,\n",
    "    processed_img: np.ndarray,\n",
    "    *,\n",
    "    downscale_factor: float | int,\n",
    ") -> None:\n",
    "    assert processed_img.shape[1] == int(img.shape[0] / downscale_factor)\n",
    "    assert processed_img.shape[0] == int(img.shape[1] / downscale_factor)\n",
    "    assert processed_img.shape[2] == img.shape[2]"
   ]
  },
  {
   "cell_type": "code",
   "execution_count": null,
   "metadata": {},
   "outputs": [],
   "source": [
    "def save_image(\n",
    "    img: np.ndarray,\n",
    "    filename: Path,\n",
    ") -> None:\n",
    "    filename.parent.mkdir(parents=True, exist_ok=True)\n",
    "    plt.imsave(filename, img)"
   ]
  },
  {
   "cell_type": "code",
   "execution_count": null,
   "metadata": {},
   "outputs": [],
   "source": [
    "from concurrent.futures import ProcessPoolExecutor\n",
    "\n",
    "def process_images(\n",
    "    source_folder: Path,\n",
    "    target_folder: Path,\n",
    "    *,\n",
    "    downscale_factor: float | int,\n",
    ") -> None:\n",
    "    for folder in tqdm(list(source_folder.iterdir())):\n",
    "        for file in tqdm(list(folder.iterdir())):\n",
    "            img = plt.imread(file)\n",
    "            processed_img = process_image(\n",
    "                img, downscale_factor=downscale_factor\n",
    "            )\n",
    "            target_file = target_folder / folder.name / file.name\n",
    "            save_image(processed_img, target_file)"
   ]
  },
  {
   "cell_type": "markdown",
   "metadata": {},
   "source": [
    "### Test on Sample Image"
   ]
  },
  {
   "cell_type": "code",
   "execution_count": null,
   "metadata": {},
   "outputs": [],
   "source": [
    "sample_img_file = RAW_DATA_FOLDER.iterdir().__next__().iterdir().__next__()\n",
    "sample_img_file"
   ]
  },
  {
   "cell_type": "code",
   "execution_count": null,
   "metadata": {},
   "outputs": [],
   "source": [
    "sample_img = plt.imread(sample_img_file)\n",
    "plt.imshow(sample_img)\n",
    "print(\"Shape: \", sample_img.shape)"
   ]
  },
  {
   "cell_type": "code",
   "execution_count": null,
   "metadata": {},
   "outputs": [],
   "source": [
    "processed_sample_img = process_image(\n",
    "    sample_img, downscale_factor=DOWNSCALE_FACTOR\n",
    ")\n",
    "plt.imshow(processed_sample_img)\n",
    "print(\"Shape: \", processed_sample_img.shape)"
   ]
  },
  {
   "cell_type": "markdown",
   "metadata": {},
   "source": [
    "### Process all images"
   ]
  },
  {
   "cell_type": "code",
   "execution_count": null,
   "metadata": {},
   "outputs": [],
   "source": [
    "process_images(\n",
    "    RAW_DATA_FOLDER,\n",
    "    DATA_FOLDER,\n",
    "    downscale_factor=DOWNSCALE_FACTOR,\n",
    ")"
   ]
  }
 ],
 "metadata": {
  "kernelspec": {
   "display_name": "venv",
   "language": "python",
   "name": "python3"
  },
  "language_info": {
   "codemirror_mode": {
    "name": "ipython",
    "version": 3
   },
   "file_extension": ".py",
   "mimetype": "text/x-python",
   "name": "python",
   "nbconvert_exporter": "python",
   "pygments_lexer": "ipython3",
   "version": "3.11.9"
  }
 },
 "nbformat": 4,
 "nbformat_minor": 2
}
